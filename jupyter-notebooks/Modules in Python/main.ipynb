{
 "cells": [
  {
   "cell_type": "markdown",
   "metadata": {},
   "source": [
    "# Utility file\n",
    "> create a python file `utility.py`\n",
    "* Define Functions in `utility.py`\n",
    "    * multiply\n",
    "    * divide\n",
    "> Now you can import `utility` here or inside in python file or notebook wihin the same folder"
   ]
  },
  {
   "cell_type": "code",
   "execution_count": 1,
   "metadata": {},
   "outputs": [
    {
     "name": "stdout",
     "output_type": "stream",
     "text": [
      "5.0\n"
     ]
    }
   ],
   "source": [
    "import utility\n",
    "print(utility.divide(10, 2))"
   ]
  },
  {
   "cell_type": "markdown",
   "metadata": {},
   "source": [
    "# Shopping Package"
   ]
  },
  {
   "cell_type": "markdown",
   "metadata": {},
   "source": [
    "> create a new folder called `shopping`\n",
    "* create a new python file inside the `shopping` folder called `shopping_cart.py`\n",
    "    * try to import `shopping_cart`"
   ]
  },
  {
   "cell_type": "code",
   "execution_count": 5,
   "metadata": {},
   "outputs": [],
   "source": [
    "# import shopping_cart\n",
    "# uncomment the previous line to see this error : \n",
    "# ModuleNotFoundError: No module named 'shopping_cart'\n"
   ]
  },
  {
   "cell_type": "markdown",
   "metadata": {},
   "source": [
    "> So, now, we must know that `shopping` folder is called a package\n",
    "* when you want to import any module from this package like `shopping_cart` you must include the package name while importing"
   ]
  },
  {
   "cell_type": "code",
   "execution_count": 2,
   "metadata": {},
   "outputs": [
    {
     "name": "stdout",
     "output_type": "stream",
     "text": [
      "Buying apple\n",
      "10\n"
     ]
    }
   ],
   "source": [
    "import shopping.shopping_cart\n",
    "print(shopping.shopping_cart.buy(\"apple\", 10))\n"
   ]
  },
  {
   "cell_type": "markdown",
   "metadata": {},
   "source": [
    "> you can try different styles of `importing`"
   ]
  },
  {
   "cell_type": "code",
   "execution_count": 7,
   "metadata": {},
   "outputs": [
    {
     "name": "stdout",
     "output_type": "stream",
     "text": [
      "Buying apple\n",
      "10\n"
     ]
    }
   ],
   "source": [
    "from shopping import shopping_cart\n",
    "print(shopping_cart.buy(\"apple\", 10))"
   ]
  },
  {
   "cell_type": "code",
   "execution_count": 9,
   "metadata": {},
   "outputs": [
    {
     "name": "stdout",
     "output_type": "stream",
     "text": [
      "Buying apple\n",
      "10\n"
     ]
    }
   ],
   "source": [
    "from shopping import *\n",
    "print(shopping_cart.buy(\"apple\", 10))"
   ]
  },
  {
   "cell_type": "code",
   "execution_count": 10,
   "metadata": {},
   "outputs": [
    {
     "name": "stdout",
     "output_type": "stream",
     "text": [
      "Buying apple\n",
      "10\n"
     ]
    }
   ],
   "source": [
    "from shopping import shopping_cart as sc    \n",
    "print(sc.buy(\"apple\", 10))"
   ]
  },
  {
   "cell_type": "code",
   "execution_count": 11,
   "metadata": {},
   "outputs": [
    {
     "name": "stdout",
     "output_type": "stream",
     "text": [
      "Buying apple\n",
      "10\n"
     ]
    }
   ],
   "source": [
    "from shopping.shopping_cart import buy    \n",
    "print(buy(\"apple\", 10))"
   ]
  },
  {
   "cell_type": "code",
   "execution_count": 12,
   "metadata": {},
   "outputs": [
    {
     "name": "stdout",
     "output_type": "stream",
     "text": [
      "20\n"
     ]
    }
   ],
   "source": [
    "from utility import multiply as mul\n",
    "print(mul(10, 2))"
   ]
  },
  {
   "cell_type": "code",
   "execution_count": 13,
   "metadata": {},
   "outputs": [
    {
     "name": "stdout",
     "output_type": "stream",
     "text": [
      "5.0\n"
     ]
    }
   ],
   "source": [
    "from utility import divide as div\n",
    "print(div(10, 2))"
   ]
  },
  {
   "cell_type": "code",
   "execution_count": 14,
   "metadata": {},
   "outputs": [
    {
     "name": "stdout",
     "output_type": "stream",
     "text": [
      "20\n",
      "5.0\n"
     ]
    }
   ],
   "source": [
    "from utility import multiply, divide\n",
    "print(multiply(10, 2))\n",
    "print(divide(10, 2))"
   ]
  },
  {
   "cell_type": "markdown",
   "metadata": {},
   "source": [
    "## Sub-Package"
   ]
  },
  {
   "cell_type": "markdown",
   "metadata": {},
   "source": [
    "> Inside the `shopping` folder, create a new folder called `checkout_cart`\n",
    "* Inside `checkout_cart`, create a file called `checkout.py`\n",
    "    * Inside `checkout.py`, create a new function called `checkout_items`"
   ]
  },
  {
   "cell_type": "code",
   "execution_count": 16,
   "metadata": {},
   "outputs": [
    {
     "data": {
      "text/plain": [
       "15"
      ]
     },
     "execution_count": 16,
     "metadata": {},
     "output_type": "execute_result"
    }
   ],
   "source": [
    "from shopping.checkout_cart.checkout import checkout_items   \n",
    "checkout_items({\"apple\": 10, \"orange\": 5})"
   ]
  },
  {
   "cell_type": "code",
   "execution_count": 19,
   "metadata": {},
   "outputs": [
    {
     "data": {
      "text/plain": [
       "15"
      ]
     },
     "execution_count": 19,
     "metadata": {},
     "output_type": "execute_result"
    }
   ],
   "source": [
    "from shopping.checkout_cart import checkout\n",
    "checkout.checkout_items({\"apple\": 10, \"orange\": 5})"
   ]
  }
 ],
 "metadata": {
  "kernelspec": {
   "display_name": "Python 3.9.12 ('base')",
   "language": "python",
   "name": "python3"
  },
  "language_info": {
   "codemirror_mode": {
    "name": "ipython",
    "version": 3
   },
   "file_extension": ".py",
   "mimetype": "text/x-python",
   "name": "python",
   "nbconvert_exporter": "python",
   "pygments_lexer": "ipython3",
   "version": "3.9.12"
  },
  "orig_nbformat": 4,
  "vscode": {
   "interpreter": {
    "hash": "78c960279fecff9e244480132042affa22d495e3cfc64966045877e7ad2bb26d"
   }
  }
 },
 "nbformat": 4,
 "nbformat_minor": 2
}
